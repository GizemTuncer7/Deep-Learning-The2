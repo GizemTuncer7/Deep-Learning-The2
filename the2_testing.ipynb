{
 "cells": [
  {
   "cell_type": "markdown",
   "source": [
    "## Notes About My Homework\n",
    "- My all functions are in the2.py file because of the length of the code.\n",
    "\n",
    "- I normalized data by dividing 255.\n",
    "\n",
    "- I imported tqdm library for the progress bar. I was going to delete this library before submitting the homework, however; after training the model I realized that if I restart the kernel and run the code again, it will not be ready until the deadline. So, I decided to submit the homework with tqdm library.\n",
    "\n",
    "- I used the xaiver initialization for the weights and biases to prevent the vanishing gradient problem.\n",
    "\n",
    "- I skipped taking the derivative of the softmax function because it confused me. I used the derivative of the cross-entropy loss function with respect to the logits.\n",
    "\n",
    "- I removed the flatten_list.reverse() line from duzlestir function because it did not fit my implementation."
   ],
   "metadata": {
    "collapsed": false
   },
   "id": "ee1ab2b8cb060961"
  },
  {
   "cell_type": "code",
   "execution_count": 4,
   "id": "initial_id",
   "metadata": {
    "collapsed": true,
    "ExecuteTime": {
     "end_time": "2024-05-15T20:38:41.595466866Z",
     "start_time": "2024-05-15T20:38:41.550878211Z"
    }
   },
   "outputs": [],
   "source": [
    "from the2 import *"
   ]
  },
  {
   "cell_type": "markdown",
   "source": [
    "## 1.1 Find hyperparameter for 0.01 of data"
   ],
   "metadata": {
    "collapsed": false
   },
   "id": "97fb287b3d864a81"
  },
  {
   "cell_type": "code",
   "execution_count": 2,
   "outputs": [
    {
     "name": "stderr",
     "output_type": "stream",
     "text": [
      "Training Progress: 100%|██████████| 10/10 [00:48<00:00,  4.84s/epoch, Loss=0.045110, Remaining Time=0.00 sec]\n"
     ]
    },
    {
     "name": "stdout",
     "output_type": "stream",
     "text": [
      "Test Loss: 0.13001644146351474\n",
      "learning rate=0.01 and hidden layer size=5 provided train_loss= 0.098 and test_loss= 0.130\n"
     ]
    },
    {
     "name": "stderr",
     "output_type": "stream",
     "text": [
      "Training Progress: 100%|██████████| 10/10 [01:27<00:00,  8.70s/epoch, Loss=0.119360, Remaining Time=0.00 sec]\n"
     ]
    },
    {
     "name": "stdout",
     "output_type": "stream",
     "text": [
      "Test Loss: 0.1723120852690565\n",
      "learning rate=0.01 and hidden layer size=10 provided train_loss= 0.077 and test_loss= 0.172\n"
     ]
    },
    {
     "name": "stderr",
     "output_type": "stream",
     "text": [
      "Training Progress: 100%|██████████| 10/10 [05:01<00:00, 30.16s/epoch, Loss=0.000978, Remaining Time=0.00 sec] \n"
     ]
    },
    {
     "name": "stdout",
     "output_type": "stream",
     "text": [
      "Test Loss: 0.5020210064694002\n",
      "learning rate=0.01 and hidden layer size=30 provided train_loss= 0.008 and test_loss= 0.502\n"
     ]
    },
    {
     "name": "stderr",
     "output_type": "stream",
     "text": [
      "Training Progress: 100%|██████████| 10/10 [00:46<00:00,  4.65s/epoch, Loss=0.064698, Remaining Time=0.00 sec]\n"
     ]
    },
    {
     "name": "stdout",
     "output_type": "stream",
     "text": [
      "Test Loss: 0.1503840971160758\n",
      "learning rate=0.001 and hidden layer size=5 provided train_loss= 0.157 and test_loss= 0.150\n"
     ]
    },
    {
     "name": "stderr",
     "output_type": "stream",
     "text": [
      "Training Progress: 100%|██████████| 10/10 [01:29<00:00,  8.94s/epoch, Loss=0.004995, Remaining Time=0.00 sec]\n"
     ]
    },
    {
     "name": "stdout",
     "output_type": "stream",
     "text": [
      "Test Loss: 0.411176157288968\n",
      "learning rate=0.001 and hidden layer size=10 provided train_loss= 0.271 and test_loss= 0.411\n"
     ]
    },
    {
     "name": "stderr",
     "output_type": "stream",
     "text": [
      "Training Progress: 100%|██████████| 10/10 [05:15<00:00, 31.60s/epoch, Loss=0.000000, Remaining Time=0.00 sec] \n"
     ]
    },
    {
     "name": "stdout",
     "output_type": "stream",
     "text": [
      "Test Loss: 1.086279312229775\n",
      "learning rate=0.001 and hidden layer size=30 provided train_loss= 0.536 and test_loss= 1.086\n"
     ]
    },
    {
     "name": "stderr",
     "output_type": "stream",
     "text": [
      "Training Progress: 100%|██████████| 10/10 [00:48<00:00,  4.84s/epoch, Loss=0.643612, Remaining Time=0.00 sec]\n"
     ]
    },
    {
     "name": "stdout",
     "output_type": "stream",
     "text": [
      "Test Loss: 0.6274486944390031\n",
      "learning rate=0.0001 and hidden layer size=5 provided train_loss= 0.731 and test_loss= 0.627\n"
     ]
    },
    {
     "name": "stderr",
     "output_type": "stream",
     "text": [
      "Training Progress: 100%|██████████| 10/10 [01:40<00:00, 10.05s/epoch, Loss=0.756254, Remaining Time=0.00 sec]\n"
     ]
    },
    {
     "name": "stdout",
     "output_type": "stream",
     "text": [
      "Test Loss: 1.4442961541803208\n",
      "learning rate=0.0001 and hidden layer size=10 provided train_loss= 1.185 and test_loss= 1.444\n"
     ]
    },
    {
     "name": "stderr",
     "output_type": "stream",
     "text": [
      "Training Progress: 100%|██████████| 10/10 [06:08<00:00, 36.83s/epoch, Loss=0.000098, Remaining Time=0.00 sec] \n"
     ]
    },
    {
     "name": "stdout",
     "output_type": "stream",
     "text": [
      "Test Loss: 2.3127629471137188\n",
      "learning rate=0.0001 and hidden layer size=30 provided train_loss= 2.350 and test_loss= 2.313\n"
     ]
    },
    {
     "name": "stderr",
     "output_type": "stream",
     "text": [
      "Training Progress: 100%|██████████| 10/10 [00:57<00:00,  5.77s/epoch, Loss=0.120739, Remaining Time=0.00 sec]\n"
     ]
    },
    {
     "name": "stdout",
     "output_type": "stream",
     "text": [
      "Test Loss: 1.1557923741770952\n",
      "learning rate=1e-05 and hidden layer size=5 provided train_loss= 1.171 and test_loss= 1.156\n"
     ]
    },
    {
     "name": "stderr",
     "output_type": "stream",
     "text": [
      "Training Progress: 100%|██████████| 10/10 [01:54<00:00, 11.47s/epoch, Loss=1.533169, Remaining Time=0.00 sec] \n"
     ]
    },
    {
     "name": "stdout",
     "output_type": "stream",
     "text": [
      "Test Loss: 1.423721635032854\n",
      "learning rate=1e-05 and hidden layer size=10 provided train_loss= 1.626 and test_loss= 1.424\n"
     ]
    },
    {
     "name": "stderr",
     "output_type": "stream",
     "text": [
      "Training Progress: 100%|██████████| 10/10 [05:44<00:00, 34.49s/epoch, Loss=1.082883, Remaining Time=0.00 sec] \n"
     ]
    },
    {
     "name": "stdout",
     "output_type": "stream",
     "text": [
      "Test Loss: 3.437486701556531\n",
      "learning rate=1e-05 and hidden layer size=30 provided train_loss= 3.899 and test_loss= 3.437\n",
      "\n",
      "Lowest test loss achieved: 0.13001644146351474 with params hl=5 and lr=0.01\n"
     ]
    },
    {
     "data": {
      "text/plain": "<Figure size 640x480 with 1 Axes>",
      "image/png": "[encoded data removed]"
     },
     "metadata": {},
     "output_type": "display_data"
    }
   ],
   "source": [
    "lr, hl, best_loss, best_model = find_hyperparameter()"
   ],
   "metadata": {
    "collapsed": false,
    "ExecuteTime": {
     "end_time": "2024-05-15T20:11:47.523255817Z",
     "start_time": "2024-05-15T19:39:40.250215518Z"
    }
   },
   "id": "de17d3249465f391"
  },
  {
   "cell_type": "markdown",
   "source": [
    "## 1.2 Find hyperparameter for 0.1 of data with Torch"
   ],
   "metadata": {
    "collapsed": false
   },
   "id": "b643a31c3361bc80"
  },
  {
   "cell_type": "code",
   "execution_count": 5,
   "outputs": [
    {
     "name": "stdout",
     "output_type": "stream",
     "text": [
      "Epoch: 1/10, Loss: 2.303208351135254\n",
      "Epoch: 2/10, Loss: 2.303196668624878\n",
      "Epoch: 3/10, Loss: 2.3031859397888184\n",
      "Epoch: 4/10, Loss: 2.3031742572784424\n",
      "Epoch: 5/10, Loss: 2.3031632900238037\n",
      "Epoch: 6/10, Loss: 2.303151845932007\n",
      "Epoch: 7/10, Loss: 2.3031411170959473\n",
      "Epoch: 8/10, Loss: 2.3031301498413086\n",
      "Epoch: 9/10, Loss: 2.303118944168091\n",
      "Epoch: 10/10, Loss: 2.303107738494873\n",
      "Test Loss: 2.302917957305908\n",
      "learning rate=0.01 and hidden layer size=5 provided test_loss= 2.303\n",
      "Epoch: 1/10, Loss: 2.304231643676758\n",
      "Epoch: 2/10, Loss: 2.3042140007019043\n",
      "Epoch: 3/10, Loss: 2.304196357727051\n",
      "Epoch: 4/10, Loss: 2.3041789531707764\n",
      "Epoch: 5/10, Loss: 2.304161310195923\n",
      "Epoch: 6/10, Loss: 2.3041436672210693\n",
      "Epoch: 7/10, Loss: 2.304126501083374\n",
      "Epoch: 8/10, Loss: 2.3041090965270996\n",
      "Epoch: 9/10, Loss: 2.3040921688079834\n",
      "Epoch: 10/10, Loss: 2.304074764251709\n",
      "Test Loss: 2.304503917694092\n",
      "learning rate=0.01 and hidden layer size=10 provided test_loss= 2.305\n",
      "Epoch: 1/10, Loss: 2.30302357673645\n",
      "Epoch: 2/10, Loss: 2.3030028343200684\n",
      "Epoch: 3/10, Loss: 2.3029818534851074\n",
      "Epoch: 4/10, Loss: 2.3029611110687256\n",
      "Epoch: 5/10, Loss: 2.3029403686523438\n",
      "Epoch: 6/10, Loss: 2.3029191493988037\n",
      "Epoch: 7/10, Loss: 2.3028981685638428\n",
      "Epoch: 8/10, Loss: 2.3028769493103027\n",
      "Epoch: 9/10, Loss: 2.3028564453125\n",
      "Epoch: 10/10, Loss: 2.30283522605896\n",
      "Test Loss: 2.3027729988098145\n",
      "learning rate=0.01 and hidden layer size=30 provided test_loss= 2.303\n",
      "Epoch: 1/10, Loss: 2.3038182258605957\n",
      "Epoch: 2/10, Loss: 2.303816795349121\n",
      "Epoch: 3/10, Loss: 2.3038148880004883\n",
      "Epoch: 4/10, Loss: 2.3038132190704346\n",
      "Epoch: 5/10, Loss: 2.30381178855896\n",
      "Epoch: 6/10, Loss: 2.3038101196289062\n",
      "Epoch: 7/10, Loss: 2.3038084506988525\n",
      "Epoch: 8/10, Loss: 2.3038065433502197\n",
      "Epoch: 9/10, Loss: 2.303805112838745\n",
      "Epoch: 10/10, Loss: 2.3038034439086914\n",
      "Test Loss: 2.3039934635162354\n",
      "learning rate=0.001 and hidden layer size=5 provided test_loss= 2.304\n",
      "Epoch: 1/10, Loss: 2.302206039428711\n",
      "Epoch: 2/10, Loss: 2.302203893661499\n",
      "Epoch: 3/10, Loss: 2.302201747894287\n",
      "Epoch: 4/10, Loss: 2.302199363708496\n",
      "Epoch: 5/10, Loss: 2.302197217941284\n",
      "Epoch: 6/10, Loss: 2.302194833755493\n",
      "Epoch: 7/10, Loss: 2.302192211151123\n",
      "Epoch: 8/10, Loss: 2.302190065383911\n",
      "Epoch: 9/10, Loss: 2.30218768119812\n",
      "Epoch: 10/10, Loss: 2.302185535430908\n",
      "Test Loss: 2.3023593425750732\n",
      "learning rate=0.001 and hidden layer size=10 provided test_loss= 2.302\n",
      "Epoch: 1/10, Loss: 2.3024837970733643\n",
      "Epoch: 2/10, Loss: 2.3024816513061523\n",
      "Epoch: 3/10, Loss: 2.3024792671203613\n",
      "Epoch: 4/10, Loss: 2.3024778366088867\n",
      "Epoch: 5/10, Loss: 2.302475929260254\n",
      "Epoch: 6/10, Loss: 2.302473783493042\n",
      "Epoch: 7/10, Loss: 2.302471876144409\n",
      "Epoch: 8/10, Loss: 2.3024699687957764\n",
      "Epoch: 9/10, Loss: 2.3024680614471436\n",
      "Epoch: 10/10, Loss: 2.3024661540985107\n",
      "Test Loss: 2.3024091720581055\n",
      "learning rate=0.001 and hidden layer size=30 provided test_loss= 2.302\n",
      "Epoch: 1/10, Loss: 2.3039207458496094\n",
      "Epoch: 2/10, Loss: 2.3039205074310303\n",
      "Epoch: 3/10, Loss: 2.303920030593872\n",
      "Epoch: 4/10, Loss: 2.303920030593872\n",
      "Epoch: 5/10, Loss: 2.303919792175293\n",
      "Epoch: 6/10, Loss: 2.303919792175293\n",
      "Epoch: 7/10, Loss: 2.303919553756714\n",
      "Epoch: 8/10, Loss: 2.3039188385009766\n",
      "Epoch: 9/10, Loss: 2.3039186000823975\n",
      "Epoch: 10/10, Loss: 2.3039186000823975\n",
      "Test Loss: 2.304227113723755\n",
      "learning rate=0.0001 and hidden layer size=5 provided test_loss= 2.304\n",
      "Epoch: 1/10, Loss: 2.302670955657959\n",
      "Epoch: 2/10, Loss: 2.302670955657959\n",
      "Epoch: 3/10, Loss: 2.302670955657959\n",
      "Epoch: 4/10, Loss: 2.30267071723938\n",
      "Epoch: 5/10, Loss: 2.30267071723938\n",
      "Epoch: 6/10, Loss: 2.30267071723938\n",
      "Epoch: 7/10, Loss: 2.3026702404022217\n",
      "Epoch: 8/10, Loss: 2.3026702404022217\n",
      "Epoch: 9/10, Loss: 2.3026702404022217\n",
      "Epoch: 10/10, Loss: 2.3026702404022217\n",
      "Test Loss: 2.302846670150757\n",
      "learning rate=0.0001 and hidden layer size=10 provided test_loss= 2.303\n",
      "Epoch: 1/10, Loss: 2.303492784500122\n",
      "Epoch: 2/10, Loss: 2.303492546081543\n",
      "Epoch: 3/10, Loss: 2.303492546081543\n",
      "Epoch: 4/10, Loss: 2.303492307662964\n",
      "Epoch: 5/10, Loss: 2.303492307662964\n",
      "Epoch: 6/10, Loss: 2.3034920692443848\n",
      "Epoch: 7/10, Loss: 2.3034920692443848\n",
      "Epoch: 8/10, Loss: 2.3034920692443848\n",
      "Epoch: 9/10, Loss: 2.3034918308258057\n",
      "Epoch: 10/10, Loss: 2.3034918308258057\n",
      "Test Loss: 2.303586721420288\n",
      "learning rate=0.0001 and hidden layer size=30 provided test_loss= 2.304\n",
      "Epoch: 1/10, Loss: 2.303875684738159\n",
      "Epoch: 2/10, Loss: 2.303875684738159\n",
      "Epoch: 3/10, Loss: 2.303875684738159\n",
      "Epoch: 4/10, Loss: 2.303875684738159\n",
      "Epoch: 5/10, Loss: 2.303875684738159\n",
      "Epoch: 6/10, Loss: 2.303875684738159\n",
      "Epoch: 7/10, Loss: 2.303875684738159\n",
      "Epoch: 8/10, Loss: 2.303875684738159\n",
      "Epoch: 9/10, Loss: 2.303875684738159\n",
      "Epoch: 10/10, Loss: 2.303875684738159\n",
      "Test Loss: 2.3037374019622803\n",
      "learning rate=1e-05 and hidden layer size=5 provided test_loss= 2.304\n",
      "Epoch: 1/10, Loss: 2.3019747734069824\n",
      "Epoch: 2/10, Loss: 2.3019745349884033\n",
      "Epoch: 3/10, Loss: 2.3019745349884033\n",
      "Epoch: 4/10, Loss: 2.3019745349884033\n",
      "Epoch: 5/10, Loss: 2.3019745349884033\n",
      "Epoch: 6/10, Loss: 2.3019745349884033\n",
      "Epoch: 7/10, Loss: 2.301974296569824\n",
      "Epoch: 8/10, Loss: 2.301974296569824\n",
      "Epoch: 9/10, Loss: 2.301974296569824\n",
      "Epoch: 10/10, Loss: 2.301974296569824\n",
      "Test Loss: 2.3019869327545166\n",
      "learning rate=1e-05 and hidden layer size=10 provided test_loss= 2.302\n",
      "Epoch: 1/10, Loss: 2.3019816875457764\n",
      "Epoch: 2/10, Loss: 2.3019816875457764\n",
      "Epoch: 3/10, Loss: 2.3019816875457764\n",
      "Epoch: 4/10, Loss: 2.3019816875457764\n",
      "Epoch: 5/10, Loss: 2.301981210708618\n",
      "Epoch: 6/10, Loss: 2.301981210708618\n",
      "Epoch: 7/10, Loss: 2.301981210708618\n",
      "Epoch: 8/10, Loss: 2.301981210708618\n",
      "Epoch: 9/10, Loss: 2.301981210708618\n",
      "Epoch: 10/10, Loss: 2.301981210708618\n",
      "Test Loss: 2.3021240234375\n",
      "learning rate=1e-05 and hidden layer size=30 provided test_loss= 2.302\n",
      "\n",
      "Lowest test loss achieved: 2.3019869327545166 with params hl=10 and lr=1e-05\n"
     ]
    },
    {
     "data": {
      "text/plain": "<Figure size 640x480 with 1 Axes>",
      "image/png": "[encoded data removed]"
     },
     "metadata": {},
     "output_type": "display_data"
    }
   ],
   "source": [
    "best_lr, best_hl, best_loss, best_model = train_test_torch()"
   ],
   "metadata": {
    "collapsed": false,
    "ExecuteTime": {
     "end_time": "2024-05-15T20:38:51.147263595Z",
     "start_time": "2024-05-15T20:38:46.204628564Z"
    }
   },
   "id": "2674806b10761738"
  },
  {
   "cell_type": "code",
   "execution_count": null,
   "outputs": [],
   "source": [],
   "metadata": {
    "collapsed": false
   },
   "id": "81c238a7dff66483"
  }
 ],
 "metadata": {
  "kernelspec": {
   "display_name": "Python 3",
   "language": "python",
   "name": "python3"
  },
  "language_info": {
   "codemirror_mode": {
    "name": "ipython",
    "version": 2
   },
   "file_extension": ".py",
   "mimetype": "text/x-python",
   "name": "python",
   "nbconvert_exporter": "python",
   "pygments_lexer": "ipython2",
   "version": "2.7.6"
  }
 },
 "nbformat": 4,
 "nbformat_minor": 5
}
